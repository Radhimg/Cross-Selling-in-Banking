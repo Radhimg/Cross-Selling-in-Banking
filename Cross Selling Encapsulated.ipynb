{
 "cells": [
  {
   "cell_type": "code",
   "execution_count": 1,
   "id": "2fc968c4",
   "metadata": {},
   "outputs": [],
   "source": [
    "import pandas as pd\n",
    "import numpy as np\n",
    "from sklearn.model_selection import train_test_split, GridSearchCV\n",
    "from sklearn.linear_model import LogisticRegression\n",
    "from sklearn.ensemble import GradientBoostingClassifier, RandomForestClassifier\n",
    "from sklearn.svm import SVC\n",
    "from sklearn.metrics import accuracy_score, classification_report\n",
    "import warnings\n",
    "\n",
    "warnings.filterwarnings(\"ignore\")\n"
   ]
  },
  {
   "cell_type": "code",
   "execution_count": 2,
   "id": "a774ba10",
   "metadata": {},
   "outputs": [],
   "source": [
    "#Setting random seed for reproducibility\n",
    "np.random.seed(0)\n",
    "\n",
    "def generate_data(num_customers=1000):\n",
    "    #Generating customer IDs from 1 to num_customers\n",
    "    customer_ids = np.arange(1, num_customers + 1)\n",
    "    #Generating random ages between 18 and 80 for each customer\n",
    "    ages = np.random.randint(18, 81, size=num_customers)\n",
    "    \n",
    "    #Randomly assigning genders and locations to each customer\n",
    "    genders = np.random.choice(['Male', 'Female'], size=num_customers)\n",
    "    locations = np.random.choice(['Urban', 'Suburban', 'Rural'], size=num_customers)\n",
    "    \n",
    "    #Generating random incomes with a normal distribution with mean 50000 and standard deviation 20000\n",
    "    incomes = np.random.normal(50000, 20000, size=num_customers).astype(int)\n",
    "    products = np.random.choice(['Savings Account', 'Credit Card', 'Mortgage', 'Investment Products'],\n",
    "                                 size=num_customers)\n",
    "    \n",
    "    data = pd.DataFrame({\n",
    "        'Customer ID': customer_ids,\n",
    "        'Age': ages,\n",
    "        'Gender': genders,\n",
    "        'Location': locations,\n",
    "        'Income': incomes,\n",
    "        'Products Purchased/Interested In': products\n",
    "    })\n",
    "    \n",
    "    return data"
   ]
  },
  {
   "cell_type": "code",
   "execution_count": 3,
   "id": "e1830551",
   "metadata": {},
   "outputs": [],
   "source": [
    "#Augmenting the original dataset by a factor of 5, by creating additional synthetic datasets\n",
    "def augment_data(original_data, factor=5):\n",
    "    augmented_data = []\n",
    "    for _ in range(factor):\n",
    "        augmented_data.append(generate_data(len(original_data)))\n",
    "    #Returns augmented dataset containing original and synthetic data\n",
    "    return pd.concat([original_data] + augmented_data, ignore_index=True)"
   ]
  },
  {
   "cell_type": "code",
   "execution_count": 4,
   "id": "d838f853",
   "metadata": {},
   "outputs": [],
   "source": [
    "def preprocess_data(data):\n",
    "    #Converting categorical variables into numerical representations\n",
    "    data['Gender'] = data['Gender'].map({'Male': 0, 'Female': 1})\n",
    "    data['Location'] = data['Location'].map({'Urban': 0, 'Suburban': 1, 'Rural': 2})\n",
    "    return data"
   ]
  },
  {
   "cell_type": "code",
   "execution_count": 5,
   "id": "72eb433b",
   "metadata": {},
   "outputs": [],
   "source": [
    "def train_and_evaluate_model(X_train, X_test, y_train, y_test, model, param_grid):\n",
    "    #Training and evaluation of the specified model using grid search for hyperparameter tuning\n",
    "    \n",
    "    #3-fold cross validation\n",
    "    #Dictionary specifying the hyperparameter grid for grid search.\n",
    "    grid_search = GridSearchCV(estimator=model, param_grid=param_grid, cv=3, scoring='accuracy', n_jobs=-1)\n",
    "    \n",
    "    grid_search.fit(X_train, y_train)\n",
    "    best_model = grid_search.best_estimator_\n",
    "    y_pred = best_model.predict(X_test)\n",
    "    accuracy = accuracy_score(y_test, y_pred)\n",
    "    print(f\"Best Hyperparameters: {grid_search.best_params_}\")\n",
    "    print(f\"Accuracy: {accuracy:.3f}\")\n",
    "    print(f\"Classification Report:\\n{classification_report(y_test, y_pred)}\\n\")\n",
    "    \n",
    "    #Returns the best trained model after hyperparameter tuning\n",
    "    return best_model"
   ]
  },
  {
   "cell_type": "code",
   "execution_count": 6,
   "id": "80fa2f7d",
   "metadata": {},
   "outputs": [],
   "source": [
    "def predict_new_customer(model):\n",
    "    #prompts the user to input information about a new customer and \n",
    "    #uses the trained model to predict the products that the new customer is likely to purchase\n",
    "    age = int(input(\"Enter customer's age: \"))\n",
    "    gender = input(\"Enter customer's gender (Male/Female): \")\n",
    "    location = input(\"Enter customer's location (Urban/Suburban/Rural): \")\n",
    "    income_str = input(\"Enter customer's income: \")\n",
    "    \n",
    "    #If the input is valid, it creates a DataFrame with the new customer's information and \n",
    "    #passes this to the model for prediction\n",
    "    if income_str.isdigit():\n",
    "        income = int(income_str)\n",
    "    else:\n",
    "        print(\"Invalid input for income.\")\n",
    "        return\n",
    "\n",
    "    gender_map = {'Male': 0, 'Female': 1}\n",
    "    location_map = {'Urban': 0, 'Suburban': 1, 'Rural': 2}\n",
    "    gender_numeric = gender_map.get(gender.capitalize(), -1)\n",
    "    location_numeric = location_map.get(location.capitalize(), -1)\n",
    "\n",
    "    if gender_numeric == -1 or location_numeric == -1:\n",
    "        print(\"Invalid input for gender or location.\")\n",
    "        return\n",
    "    else:\n",
    "        new_customer_data = pd.DataFrame({\n",
    "            'Age': [age],\n",
    "            'Gender': [gender_numeric],\n",
    "            'Location': [location_numeric],\n",
    "            'Income': [income]\n",
    "        })\n",
    "\n",
    "        predicted_products = model.predict(new_customer_data)\n",
    "        print(\"Predicted Products for New Customer:\", predicted_products)\n",
    "\n",
    "#FUTURE STEPS\n",
    "#it doesn't handle cases where the input format is incorrect. \n",
    "#To improve it, better error handling for invalid inputs can be added"
   ]
  },
  {
   "cell_type": "code",
   "execution_count": 7,
   "id": "903318c8",
   "metadata": {},
   "outputs": [],
   "source": [
    "# Generate and augment data\n",
    "data = generate_data()\n",
    "augmented_data = augment_data(data)"
   ]
  },
  {
   "cell_type": "code",
   "execution_count": 8,
   "id": "a1b39e31",
   "metadata": {},
   "outputs": [],
   "source": [
    "# Save the dataset to a CSV file\n",
    "augmented_data.to_csv(\"bank_dataset.csv\", index=False)"
   ]
  },
  {
   "cell_type": "code",
   "execution_count": 9,
   "id": "673764d2",
   "metadata": {},
   "outputs": [],
   "source": [
    "# Load the dataset\n",
    "data = pd.read_csv(\"bank_dataset.csv\")"
   ]
  },
  {
   "cell_type": "code",
   "execution_count": 10,
   "id": "9c4d6d73",
   "metadata": {},
   "outputs": [],
   "source": [
    "# Data preprocessing\n",
    "data = preprocess_data(data)"
   ]
  },
  {
   "cell_type": "code",
   "execution_count": 11,
   "id": "ea59c24f",
   "metadata": {},
   "outputs": [],
   "source": [
    "# Split data into features (X) and target variable (y)\n",
    "X = data.drop(columns=['Products Purchased/Interested In', 'Customer ID'])\n",
    "y = data['Products Purchased/Interested In']"
   ]
  },
  {
   "cell_type": "code",
   "execution_count": 12,
   "id": "234e35c5",
   "metadata": {},
   "outputs": [],
   "source": [
    "# Split the data into training and testing sets\n",
    "X_train, X_test, y_train, y_test = train_test_split(X, y, test_size=0.2, random_state=42)"
   ]
  },
  {
   "cell_type": "code",
   "execution_count": 13,
   "id": "5c9819cd",
   "metadata": {},
   "outputs": [],
   "source": [
    "# Models with hyperparameter grids\n",
    "models = {\n",
    "    'Logistic Regression': (LogisticRegression(), {'C': [0.1, 1, 10]}),\n",
    "    'Random Forest': (RandomForestClassifier(random_state=42), {'n_estimators': [50, 100, 200], 'max_depth': [None, 10, 20]}),\n",
    "    'Gradient Boosting': (GradientBoostingClassifier(random_state=42), {'n_estimators': [50, 100, 200], 'max_depth': [3, 5, 10]}),\n",
    "    'Support Vector Machine': (SVC(random_state=42), {'C': [0.1, 1, 10], 'gamma': ['scale', 'auto']})\n",
    "}"
   ]
  },
  {
   "cell_type": "code",
   "execution_count": 14,
   "id": "83981521",
   "metadata": {},
   "outputs": [
    {
     "name": "stdout",
     "output_type": "stream",
     "text": [
      "\n",
      "==================== Logistic Regression ====================\n",
      "Best Hyperparameters: {'C': 0.1}\n",
      "Accuracy: 0.242\n",
      "Classification Report:\n",
      "                     precision    recall  f1-score   support\n",
      "\n",
      "        Credit Card       0.00      0.00      0.00       291\n",
      "Investment Products       0.17      0.00      0.01       307\n",
      "           Mortgage       0.00      0.00      0.00       311\n",
      "    Savings Account       0.24      0.99      0.39       291\n",
      "\n",
      "           accuracy                           0.24      1200\n",
      "          macro avg       0.10      0.25      0.10      1200\n",
      "       weighted avg       0.10      0.24      0.10      1200\n",
      "\n",
      "\n",
      "Enter customer's age: 25\n",
      "Enter customer's gender (Male/Female): male\n",
      "Enter customer's location (Urban/Suburban/Rural): rural\n",
      "Enter customer's income: 50000\n",
      "Predicted Products for New Customer: ['Savings Account']\n",
      "\n",
      "==================== Random Forest ====================\n",
      "Best Hyperparameters: {'max_depth': 10, 'n_estimators': 200}\n",
      "Accuracy: 0.239\n",
      "Classification Report:\n",
      "                     precision    recall  f1-score   support\n",
      "\n",
      "        Credit Card       0.23      0.20      0.21       291\n",
      "Investment Products       0.26      0.23      0.24       307\n",
      "           Mortgage       0.26      0.24      0.25       311\n",
      "    Savings Account       0.22      0.28      0.25       291\n",
      "\n",
      "           accuracy                           0.24      1200\n",
      "          macro avg       0.24      0.24      0.24      1200\n",
      "       weighted avg       0.24      0.24      0.24      1200\n",
      "\n",
      "\n",
      "Enter customer's age: 25\n",
      "Enter customer's gender (Male/Female): male\n",
      "Enter customer's location (Urban/Suburban/Rural): rural\n",
      "Enter customer's income: 50000\n",
      "Predicted Products for New Customer: ['Investment Products']\n",
      "\n",
      "==================== Gradient Boosting ====================\n",
      "Best Hyperparameters: {'max_depth': 10, 'n_estimators': 200}\n",
      "Accuracy: 0.241\n",
      "Classification Report:\n",
      "                     precision    recall  f1-score   support\n",
      "\n",
      "        Credit Card       0.22      0.22      0.22       291\n",
      "Investment Products       0.25      0.23      0.24       307\n",
      "           Mortgage       0.24      0.22      0.23       311\n",
      "    Savings Account       0.25      0.30      0.27       291\n",
      "\n",
      "           accuracy                           0.24      1200\n",
      "          macro avg       0.24      0.24      0.24      1200\n",
      "       weighted avg       0.24      0.24      0.24      1200\n",
      "\n",
      "\n",
      "Enter customer's age: 25\n",
      "Enter customer's gender (Male/Female): male\n",
      "Enter customer's location (Urban/Suburban/Rural): rural\n",
      "Enter customer's income: 50000\n",
      "Predicted Products for New Customer: ['Mortgage']\n",
      "\n",
      "==================== Support Vector Machine ====================\n",
      "Best Hyperparameters: {'C': 1, 'gamma': 'auto'}\n",
      "Accuracy: 0.243\n",
      "Classification Report:\n",
      "                     precision    recall  f1-score   support\n",
      "\n",
      "        Credit Card       0.00      0.00      0.00       291\n",
      "Investment Products       0.43      0.01      0.02       307\n",
      "           Mortgage       0.29      0.01      0.01       311\n",
      "    Savings Account       0.24      0.99      0.39       291\n",
      "\n",
      "           accuracy                           0.24      1200\n",
      "          macro avg       0.24      0.25      0.11      1200\n",
      "       weighted avg       0.24      0.24      0.10      1200\n",
      "\n",
      "\n",
      "Enter customer's age: 25\n",
      "Enter customer's gender (Male/Female): male\n",
      "Enter customer's location (Urban/Suburban/Rural): rural\n",
      "Enter customer's income: 50000\n",
      "Predicted Products for New Customer: ['Savings Account']\n"
     ]
    }
   ],
   "source": [
    "# Train and evaluate models\n",
    "for name, (model, param_grid) in models.items():\n",
    "    print(f\"\\n{20*'='} {name} {20*'='}\")\n",
    "    best_model = train_and_evaluate_model(X_train, X_test, y_train, y_test, model, param_grid)\n",
    "    predict_new_customer(best_model)"
   ]
  },
  {
   "cell_type": "code",
   "execution_count": null,
   "id": "ad578724",
   "metadata": {},
   "outputs": [],
   "source": []
  },
  {
   "cell_type": "code",
   "execution_count": null,
   "id": "f0a100a1",
   "metadata": {},
   "outputs": [],
   "source": []
  },
  {
   "cell_type": "code",
   "execution_count": null,
   "id": "95b56224",
   "metadata": {},
   "outputs": [],
   "source": []
  }
 ],
 "metadata": {
  "kernelspec": {
   "display_name": "Python 3 (ipykernel)",
   "language": "python",
   "name": "python3"
  },
  "language_info": {
   "codemirror_mode": {
    "name": "ipython",
    "version": 3
   },
   "file_extension": ".py",
   "mimetype": "text/x-python",
   "name": "python",
   "nbconvert_exporter": "python",
   "pygments_lexer": "ipython3",
   "version": "3.9.12"
  }
 },
 "nbformat": 4,
 "nbformat_minor": 5
}
